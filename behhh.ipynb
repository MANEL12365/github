{
  "nbformat": 4,
  "nbformat_minor": 0,
  "metadata": {
    "colab": {
      "name": "behhh",
      "provenance": []
    },
    "kernelspec": {
      "name": "python3",
      "display_name": "Python 3"
    },
    "language_info": {
      "name": "python"
    }
  },
  "cells": [
    {
      "cell_type": "code",
      "metadata": {
        "colab": {
          "base_uri": "https://localhost:8080/"
        },
        "id": "lhG44fBC4Pjd",
        "outputId": "e22dc4ab-bb6b-407c-d941-aaceb1236c9a"
      },
      "source": [
        "class Point3D(object):\n",
        "  def __init__(self, x, y, z):\n",
        "    self.x=x\n",
        "    self.y=y\n",
        "    self.z=z\n",
        "\n",
        "my_point=Point3D(1,2,3)\n",
        "print(\"x=\",my_point.x)\n",
        "print(\"y=\",my_point.y)\n",
        "print(\"z=\",my_point.z)\n",
        "\n"
      ],
      "execution_count": null,
      "outputs": [
        {
          "output_type": "stream",
          "text": [
            "x= 1\n",
            "y= 2\n",
            "z= 3\n"
          ],
          "name": "stdout"
        }
      ]
    },
    {
      "cell_type": "code",
      "metadata": {
        "colab": {
          "base_uri": "https://localhost:8080/"
        },
        "id": "Fd6tbJ_8ugYf",
        "outputId": "04d980b6-4113-4c4d-97e1-db836237330e"
      },
      "source": [
        "class Rectangle(object):\n",
        "  def __init__(self,width,length):\n",
        "     self.width=width\n",
        "     self.length=length\n",
        "  def rectangle_area(self) : \n",
        "        return self.length*self.width\n",
        "  def rectangle_perimeter(self):\n",
        "        return 2*(self.length+self.width)\n",
        "\n",
        "my_rectangle=Rectangle(3,4)\n",
        "print(\"the area is:\",my_rectangle.rectangle_area())\n",
        "print(\"the perimeter is:\",my_rectangle.rectangle_perimeter())"
      ],
      "execution_count": 10,
      "outputs": [
        {
          "output_type": "stream",
          "text": [
            "the area is: 12\n",
            "the perimeter is: 14\n"
          ],
          "name": "stdout"
        }
      ]
    },
    {
      "cell_type": "code",
      "metadata": {
        "colab": {
          "base_uri": "https://localhost:8080/"
        },
        "id": "7nLLD6FVzvtw",
        "outputId": "aa6d1cb5-82eb-489c-e409-502b517bf6e3"
      },
      "source": [
        "import math \n",
        "class Circle(object):\n",
        "   def __init__(self,radius):\n",
        "     self.radius=radius\n",
        "   def circle_area(self) :\n",
        "       return math.pi*(self.radius**2)\n",
        "   def circle_perimeter(self):\n",
        "        return 2*math.pi*self.radius\n",
        "r = Circle(int(input(\"the radius of the circle:\")))\n",
        "print(\"the area is:\"r.circle_area())\n",
        "print(\"the perimeter is:\"r.circle_perimeter())"
      ],
      "execution_count": 23,
      "outputs": [
        {
          "output_type": "stream",
          "text": [
            "the radius of the circle5\n",
            "78.53981633974483\n",
            "31.41592653589793\n"
          ],
          "name": "stdout"
        }
      ]
    },
    {
      "cell_type": "code",
      "metadata": {
        "colab": {
          "base_uri": "https://localhost:8080/"
        },
        "id": "V06p4AmE1AYv",
        "outputId": "f8fa29eb-0ad2-48a5-9ac8-2db7597ec141"
      },
      "source": [
        "class Bank(object):\n",
        "    def __init__(self):\n",
        "        self.balance = 0\n",
        "    \n",
        "    def deposit(self):\n",
        "      amount=float(input(\"Enter amount to be Deposited: \"))\n",
        "      self.balance += amount\n",
        "      print(\"\\n Amount Deposited:\",amount)\n",
        "    def withdraw(self):\n",
        "      amount=float(input(\"Enter amount to be withdrawn: \"))\n",
        "      self.balance -= amount\n",
        "      print(\"\\n You Withdrew:\", amount) \n",
        "    def display(self):\n",
        "      print(\"Net Available Balance=\",self.balance)\n",
        "\n",
        "s = Bank()\n",
        "print(s.deposit())\n",
        "print(s.withdraw())"
      ],
      "execution_count": 38,
      "outputs": [
        {
          "output_type": "stream",
          "text": [
            "Enter amount to be Deposited: 1000\n",
            "\n",
            " Amount Deposited: 1000.0\n",
            "None\n",
            "Enter amount to be withdrawn: 50\n",
            "\n",
            " You Withdrew: 50.0\n",
            "None\n"
          ],
          "name": "stdout"
        }
      ]
    },
    {
      "cell_type": "code",
      "metadata": {
        "id": "9yCt6BzQ3y1e"
      },
      "source": [
        "class Bank:\n",
        "    def __init__(self):\n",
        "        self.balance=0\n",
        "        \n",
        "    def deposit(self):\n",
        "        amount=float(input(\"Enter amount to be deposited: \"))\n",
        "        self.balance += amount\n",
        "        print(\"Amount Deposited: \",amount)\n",
        "    def withdraw(self):\n",
        "        amount = float(input(\"Enter amount to withdraw: \"))\n",
        "        if self.balance>=amount:\n",
        "            self.balance-=amount\n",
        "            print(\"You withdraw: \",amount)\n",
        "        else:\n",
        "            print(\"Insufficient balance \")\n",
        "    def display(self):\n",
        "        print(\"Net Available Balance=\",self.balance)\n",
        "\n",
        "\n",
        "m = Bank()\n",
        "m.deposit()\n",
        "m.withdraw()\n",
        "m.display() "
      ],
      "execution_count": 36,
      "outputs": []
    }
  ]
}