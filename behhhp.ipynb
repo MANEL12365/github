{
  "nbformat": 4,
  "nbformat_minor": 0,
  "metadata": {
    "colab": {
      "name": "behhhp",
      "provenance": []
    },
    "kernelspec": {
      "name": "python3",
      "display_name": "Python 3"
    },
    "language_info": {
      "name": "python"
    }
  },
  "cells": [
    {
      "cell_type": "code",
      "metadata": {
        "colab": {
          "base_uri": "https://localhost:8080/"
        },
        "id": "lhG44fBC4Pjd",
        "outputId": "e22dc4ab-bb6b-407c-d941-aaceb1236c9a"
      },
      "source": [
        "class Point3D(object):\n",
        "  def __init__(self, x, y, z):\n",
        "    self.x=x\n",
        "    self.y=y\n",
        "    self.z=z\n",
        "\n",
        "my_point=Point3D(1,2,3)\n",
        "print(\"x=\",my_point.x)\n",
        "print(\"y=\",my_point.y)\n",
        "print(\"z=\",my_point.z)\n",
        "\n"
      ],
      "execution_count": null,
      "outputs": [
        {
          "output_type": "stream",
          "text": [
            "x= 1\n",
            "y= 2\n",
            "z= 3\n"
          ],
          "name": "stdout"
        }
      ]
    },
    {
      "cell_type": "code",
      "metadata": {
        "colab": {
          "base_uri": "https://localhost:8080/"
        },
        "id": "Fd6tbJ_8ugYf",
        "outputId": "04d980b6-4113-4c4d-97e1-db836237330e"
      },
      "source": [
        "class Rectangle(object):\n",
        "  def __init__(self,width,length):\n",
        "     self.width=width\n",
        "     self.length=length\n",
        "  def rectangle_area(self) : \n",
        "        return self.length*self.width\n",
        "  def rectangle_perimeter(self):\n",
        "        return 2*(self.length+self.width)\n",
        "\n",
        "my_rectangle=Rectangle(3,4)\n",
        "print(\"the area is:\",my_rectangle.rectangle_area())\n",
        "print(\"the perimeter is:\",my_rectangle.rectangle_perimeter())"
      ],
      "execution_count": null,
      "outputs": [
        {
          "output_type": "stream",
          "text": [
            "the area is: 12\n",
            "the perimeter is: 14\n"
          ],
          "name": "stdout"
        }
      ]
    },
    {
      "cell_type": "code",
      "metadata": {
        "colab": {
          "base_uri": "https://localhost:8080/"
        },
        "id": "7nLLD6FVzvtw",
        "outputId": "325268ae-f6ca-4111-ed2e-c0559ac9dba5"
      },
      "source": [
        "import math \n",
        "class Circle(object):\n",
        "   def __init__(self,radius,x,y):\n",
        "     self.radius=radius\n",
        "     self.x=x\n",
        "     self.y=y\n",
        "   def circle_area(self) :\n",
        "       return math.pi*(self.radius**2)\n",
        "   def circle_perimeter(self):\n",
        "        return 2*math.pi*self.radius\n",
        "   def  isinside(self,a,b):\n",
        "      if (a-self.x)**2+(b-self.y)**2==self.radius**2:\n",
        "       print(\"le point appartient au cercle \")\n",
        "      else:print(\"le point n appartient pas au cercle\")\n",
        "r=int(input(\"the radius\"))\n",
        "my_circle=Circle(r,3,5)\n",
        "a=int(input(\"abscisse\"))\n",
        "b=int(input(\"ordonnee\"))\n",
        "print(my_circle.circle_area())\n",
        "print(my_circle.circle_perimeter())\n",
        "my_circle.isinside(a,b)"
      ],
      "execution_count": 17,
      "outputs": [
        {
          "output_type": "stream",
          "text": [
            "the radius5\n",
            "abscisse2\n",
            "ordonnee6\n",
            "78.53981633974483\n",
            "31.41592653589793\n",
            "le point n appartient pas au cercle\n"
          ],
          "name": "stdout"
        }
      ]
    },
    {
      "cell_type": "code",
      "metadata": {
        "id": "V06p4AmE1AYv"
      },
      "source": [
        "class Bank(object):\n",
        "    def __init__(self):\n",
        "        self.balance = 0\n",
        "    \n",
        "    def deposit(self):\n",
        "      amount=float(input(\"Enter amount to be Deposited: \"))\n",
        "      self.balance += amount\n",
        "      print(\"\\n Amount Deposited:\",amount)\n",
        "    def withdraw(self):\n",
        "      amount=float(input(\"Enter amount to be withdrawn: \"))\n",
        "      self.balance -= amount\n",
        "      print(\"\\n You Withdrew:\", amount) \n",
        "    def display(self):\n",
        "      print(\"Net Available Balance=\",self.balance)\n",
        "\n",
        "s = Bank()\n",
        "print(s.deposit())\n",
        "print(s.withdraw())"
      ],
      "execution_count": null,
      "outputs": []
    },
    {
      "cell_type": "code",
      "metadata": {
        "id": "9yCt6BzQ3y1e"
      },
      "source": [
        "class Bank:\n",
        "    def __init__(self):\n",
        "        self.balance=0\n",
        "        \n",
        "    def deposit(self):\n",
        "        amount=float(input(\"Enter amount to be deposited: \"))\n",
        "        self.balance += amount\n",
        "        print(\"Amount Deposited: \",amount)\n",
        "    def withdraw(self):\n",
        "        amount = float(input(\"Enter amount to withdraw: \"))\n",
        "        if self.balance>=amount:\n",
        "            self.balance-=amount\n",
        "            print(\"You withdraw: \",amount)\n",
        "        else:\n",
        "            print(\"Insufficient balance \")\n",
        "    def display(self):\n",
        "        print(\"Net Available Balance=\",self.balance)\n",
        "\n",
        "\n",
        "m = Bank()\n",
        "m.deposit()\n",
        "m.withdraw()\n",
        "m.display() "
      ],
      "execution_count": null,
      "outputs": []
    }
  ]
}