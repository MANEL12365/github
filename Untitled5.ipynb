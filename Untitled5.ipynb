{
  "nbformat": 4,
  "nbformat_minor": 0,
  "metadata": {
    "colab": {
      "name": "Untitled5.ipynb",
      "provenance": []
    },
    "kernelspec": {
      "name": "python3",
      "display_name": "Python 3"
    },
    "language_info": {
      "name": "python"
    }
  },
  "cells": [
    {
      "cell_type": "code",
      "metadata": {
        "colab": {
          "base_uri": "https://localhost:8080/"
        },
        "id": "73DP82p0okl7",
        "outputId": "6e130a23-155d-4b86-80d5-e2c5d11c181b"
      },
      "source": [
        "with open(\"test.txt\",'w',encoding='utf-8') as f:\n",
        "    f.write(\"What is Python language?\\n\")\n",
        "    f.write(\"Python is a widely used high-level, general-purpose, interpreted, dynamic programming language.\")\n",
        "    f.write(\"Its design philosophy emphasizes code readability, and its syntax\\n\" )\n",
        "    f.write(\"allows programmers to express concepts in fewer lines of code than possible in languages such as C++ or Java.\\n\")\n",
        "    f.write(\"Python supports multiple programming paradigms, including object-oriented, imperative and functional programming or procedural styles.\\n\")\n",
        "    f.write(\"It features a dynamic type system and automatic memory management and has a large and comprehensive standard library.\\n\")\n",
        "    f.write(\"The best way we learn anything is by practice and exercise questions.\\n\")\n",
        "    f.write(\"We  have started this section for those (beginner to intermediate) who are familiar with Python.\\n\")\n",
        "f= open(\"test.txt\",'r',encoding = 'utf-8')\n",
        "for line in f:\n",
        "  print(line,end=\"\")\n",
        "f.close()"
      ],
      "execution_count": null,
      "outputs": [
        {
          "output_type": "stream",
          "text": [
            "What is Python language?\n",
            "Python is a widely used high-level, general-purpose, interpreted, dynamic programming language.Its design philosophy emphasizes code readability, and its syntax\n",
            "allows programmers to express concepts in fewer lines of code than possible in languages such as C++ or Java.\n",
            "Python supports multiple programming paradigms, including object-oriented, imperative and functional programming or procedural styles.\n",
            "It features a dynamic type system and automatic memory management and has a large and comprehensive standard library.\n",
            "The best way we learn anything is by practice and exercise questions.\n",
            "We  have started this section for those (beginner to intermediate) who are familiar with Python.\n"
          ],
          "name": "stdout"
        }
      ]
    },
    {
      "cell_type": "code",
      "metadata": {
        "colab": {
          "base_uri": "https://localhost:8080/"
        },
        "id": "lomE7my1y3gm",
        "outputId": "a87de51e-4d01-40a4-f072-5d516441a9d0"
      },
      "source": [
        "f=open(\"test.txt\",'r',encoding = 'utf-8')\n",
        "n=int(input(\"nbre de ligne\"))\n",
        "for i in range(1,n+1):\n",
        "  print(f.readline())\n",
        "f.close()"
      ],
      "execution_count": 42,
      "outputs": [
        {
          "output_type": "stream",
          "text": [
            "nbre de ligne5\n",
            "What is Python language?\n",
            "\n",
            "Python is a widely used high-level, general-purpose, interpreted, dynamic programming language.Its design philosophy emphasizes code readability, and its syntax\n",
            "\n",
            "allows programmers to express concepts in fewer lines of code than possible in languages such as C++ or Java.\n",
            "\n",
            "Python supports multiple programming paradigms, including object-oriented, imperative and functional programming or procedural styles.\n",
            "\n",
            "It features a dynamic type system and automatic memory management and has a large and comprehensive standard library.\n",
            "\n"
          ],
          "name": "stdout"
        }
      ]
    },
    {
      "cell_type": "code",
      "metadata": {
        "colab": {
          "base_uri": "https://localhost:8080/"
        },
        "id": "uC3QYCL9ziV3",
        "outputId": "e617f54b-539e-46aa-f960-4789ef076387"
      },
      "source": [
        "f=open(\"test.txt\",'r',encoding = 'utf-8')\n",
        "n=int(input(\"nbre de ligne\"))\n",
        "lines_count=len(f.readlines())\n",
        "f.close()\n",
        "f=open(\"test.txt\",'r',encoding = 'utf-8')\n",
        "for i in range(1,lines_count+1):\n",
        "  if i>=lines_count-n+1:\n",
        "    print(f.readline())\n",
        "  else:\n",
        "    f.readline()\n",
        "f.close()"
      ],
      "execution_count": 46,
      "outputs": [
        {
          "output_type": "stream",
          "text": [
            "nbre de ligne2\n",
            "The best way we learn anything is by practice and exercise questions.\n",
            "\n",
            "We  have started this section for those (beginner to intermediate) who are familiar with Python.\n",
            "\n"
          ],
          "name": "stdout"
        }
      ]
    },
    {
      "cell_type": "code",
      "metadata": {
        "colab": {
          "base_uri": "https://localhost:8080/"
        },
        "id": "uwIXRQP71rKH",
        "outputId": "66fc338f-0103-46ad-ff01-6c34a97941ec"
      },
      "source": [
        "textfile=input()\n",
        "f=open(textfile,'r',encoding = 'utf-8')\n",
        "numbr=0\n",
        "for line in f:\n",
        "  word=line.split()\n",
        "  numbr=numbr+len(word)\n",
        "print(numbr)"
      ],
      "execution_count": 50,
      "outputs": [
        {
          "output_type": "stream",
          "text": [
            "test.txt\n",
            "101\n"
          ],
          "name": "stdout"
        }
      ]
    }
  ]
}