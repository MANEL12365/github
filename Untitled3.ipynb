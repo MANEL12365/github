{
  "nbformat": 4,
  "nbformat_minor": 0,
  "metadata": {
    "colab": {
      "name": "Untitled3.ipynb",
      "provenance": []
    },
    "kernelspec": {
      "name": "python3",
      "display_name": "Python 3"
    },
    "language_info": {
      "name": "python"
    }
  },
  "cells": [
    {
      "cell_type": "code",
      "metadata": {
        "id": "A7T2nKmUB5ZV"
      },
      "source": [
        "import pandas as pd\n",
        "import numpy as np\n",
        "exam_data = {'name': ['Anastasia', 'Dima', 'Katherine', 'James', 'Emily', 'Michael', 'Matthew', 'Laura', 'Kevin', 'Jonas'],\n",
        "'score': [12.5, 9, 16.5, np.nan, 9, 20, 14.5, np.nan, 8, 19],\n",
        "'attempts': [1, 3, 2, 3, 2, 3, 1, 1, 2, 1],\n",
        "'qualify': ['yes', 'no', 'yes', 'no', 'no', 'yes', 'yes', 'no', 'no', 'yes']}\n",
        "labels = ['a', 'b', 'c', 'd', 'e', 'f', 'g', 'h', 'i', 'j']\n",
        "df=pd.DataFrame(exam_data,columns=['name','score','attempts','qualify'],index=['a', 'b', 'c', 'd', 'e', 'f', 'g', 'h', 'i', 'j'])\n",
        "print(df.head(3))\n",
        "m=df.drop(['d','h'])\n",
        "print(m)\n",
        "new_data={\"name\" : \"Suresh\", \"score\": 15.5, \"attempts\": 1, \"qualify\": \"yes\"}\n",
        "y = 0\n",
        "f = []\n",
        "new_row = {'Sucess' : []}\n",
        "a = pd.DataFrame(new_row)\n",
        "print(df.append(new_data,ignore_index=True))\n",
        "print(df.drop(['attempts'],axis=1))\n",
        "x=np.array(df[\"score\"])\n",
        "x[x<10]=0\n",
        "x[x>=10]=1\n",
        "d=x.tolist()\n",
        "df[\"success\"]=d\n",
        "print(df)\n",
        "df.to_csv(\"my_data\")\n",
        "my_data=pd.read_csv('my_data')"
      ],
      "execution_count": null,
      "outputs": []
    }
  ]
}