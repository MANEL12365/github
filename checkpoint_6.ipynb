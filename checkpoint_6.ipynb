{
  "nbformat": 4,
  "nbformat_minor": 0,
  "metadata": {
    "colab": {
      "name": "checkpoint 6",
      "provenance": [],
      "collapsed_sections": []
    },
    "kernelspec": {
      "name": "python3",
      "display_name": "Python 3"
    },
    "language_info": {
      "name": "python"
    }
  },
  "cells": [
    {
      "cell_type": "code",
      "metadata": {
        "colab": {
          "base_uri": "https://localhost:8080/"
        },
        "id": "OGas03dKMRh-",
        "outputId": "6bb16635-1c20-4bb8-9e58-fb229a4b14ea"
      },
      "source": [
        "import numpy as np\n",
        "a=np.array([1,2,3]).tolist()\n",
        "print(a)"
      ],
      "execution_count": null,
      "outputs": [
        {
          "output_type": "stream",
          "text": [
            "[1, 2, 3]\n"
          ],
          "name": "stdout"
        }
      ]
    },
    {
      "cell_type": "code",
      "metadata": {
        "colab": {
          "base_uri": "https://localhost:8080/"
        },
        "id": "Hm9OxPYtb6Vo",
        "outputId": "7e1c4087-046e-46c3-ede8-8fbda1c7d73f"
      },
      "source": [
        "import numpy as np \n",
        "k =0\n",
        "array = np.array([[1,8],[0,4]])\n",
        "k=np.trace(array)\n",
        "print(k)"
      ],
      "execution_count": null,
      "outputs": [
        {
          "output_type": "stream",
          "text": [
            "5\n"
          ],
          "name": "stdout"
        }
      ]
    },
    {
      "cell_type": "code",
      "metadata": {
        "colab": {
          "base_uri": "https://localhost:8080/"
        },
        "id": "i7gUTIuihqHe",
        "outputId": "f6f1325e-eeea-4d13-c653-186cef93d9ec"
      },
      "source": [
        "import numpy as np\n",
        "x = np.array([[0, 5, 15], [20, 30, 40]])\n",
        "print(x)\n",
        "print(\"Values bigger than 10 =\", x[x>10])\n",
        "\n"
      ],
      "execution_count": null,
      "outputs": [
        {
          "output_type": "stream",
          "text": [
            "[[ 0  5 15]\n",
            " [20 30 40]]\n",
            "Values bigger than 10 = [15 20 30 40]\n",
            "Their indices are  (array([0, 1, 1, 1]), array([2, 0, 1, 2]))\n"
          ],
          "name": "stdout"
        }
      ]
    },
    {
      "cell_type": "code",
      "metadata": {
        "colab": {
          "base_uri": "https://localhost:8080/"
        },
        "id": "BeUBFpA1jWF3",
        "outputId": "0ea79ad4-9e5b-4a3b-d8bd-ff840fbd1c0c"
      },
      "source": [
        "import numpy as np\n",
        "a = np.array([8,4,0])\n",
        "b = np.array([7,9,6])\n",
        "c = np.add(a,b)\n",
        "print(c)"
      ],
      "execution_count": null,
      "outputs": [
        {
          "output_type": "stream",
          "text": [
            "[5 7 9]\n"
          ],
          "name": "stdout"
        }
      ]
    },
    {
      "cell_type": "code",
      "metadata": {
        "colab": {
          "base_uri": "https://localhost:8080/"
        },
        "id": "YSBJlCCxBlRt",
        "outputId": "902a7348-4581-4950-c6e5-e5edaac8637a"
      },
      "source": [
        "import numpy as np \n",
        "from statistics import mean \n",
        "a=np.arange(8).reshape(4,2)\n",
        "print(a.mean(a[0,1]))"
      ],
      "execution_count": null,
      "outputs": [
        {
          "output_type": "stream",
          "text": [
            "[0.5 2.5 4.5 6.5]\n"
          ],
          "name": "stdout"
        }
      ]
    }
  ]
}