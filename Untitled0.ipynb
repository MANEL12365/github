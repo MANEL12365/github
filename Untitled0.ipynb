{
  "nbformat": 4,
  "nbformat_minor": 0,
  "metadata": {
    "colab": {
      "name": "Untitled0.ipynb",
      "provenance": [],
      "collapsed_sections": []
    },
    "kernelspec": {
      "name": "python3",
      "display_name": "Python 3"
    },
    "language_info": {
      "name": "python"
    }
  },
  "cells": [
    {
      "cell_type": "code",
      "metadata": {
        "id": "dO6sFgQmLk84",
        "colab": {
          "base_uri": "https://localhost:8080/"
        },
        "outputId": "d124fef4-62df-47f2-fd62-471be52540c2"
      },
      "source": [
        "print(\"Welcome to python world!Let's start coding\")"
      ],
      "execution_count": null,
      "outputs": [
        {
          "output_type": "stream",
          "text": [
            "Welcome to python world!Let's start coding\n"
          ],
          "name": "stdout"
        }
      ]
    }
  ]
}